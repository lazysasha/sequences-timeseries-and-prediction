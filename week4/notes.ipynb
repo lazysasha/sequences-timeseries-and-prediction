{
 "cells": [
  {
   "cell_type": "markdown",
   "metadata": {
    "collapsed": true,
    "pycharm": {
     "name": "#%% md\n"
    }
   },
   "source": [
    "# Real-world time series data\n",
    "## Convolutions\n",
    "This week we apply a convolution to get a better fitting model."
   ]
  },
  {
   "cell_type": "code",
   "source": [
    "import tensorflow as tf\n",
    "\n",
    "model = tf.keras.models.Sequential([\n",
    "    # Try to learn 32 filters, 1 dimensional convolution with 5-values filter\n",
    "    # We got rid of lambda layer that will shape the input for us, so we have to actually specify an `input_shape` in Conv1D\n",
    "    tf.keras.layers.Conv1D(filters=32, kernel_size=5, strides=1, padding=\"casual\", activation=\"relu\", input_shape=[None,1]),\n",
    "    tf.keras.layers.LSTM(32, return_sequences=True),\n",
    "    tf.keras.layers.LSTM(32, return_sequences=True),\n",
    "    tf.keras.layers.Dense(1),\n",
    "    tf.keras.layers.Lambda(lambda x: x * 200)\n",
    "])\n",
    "\n",
    "optimizer = tf.keras.optimizers.SGD(lr=1e-5, momentum=0.9)\n",
    "\n",
    "model.compile(loss=tf.keras.losses.Huber(), optimizer=optimizer, metrics=[\"mae\"])\n",
    "model.fit(dataset, epochs=500)\n",
    "\n",
    "# We will have to update our `windowed_dataset` function we used before:\n",
    "def windowed_dataset(series, window_size, batch_size, shuffle_buffer):\n",
    "    series = tf.expand_dims(series, axis=-1) # expand dimensions of series before we process it\n",
    "\n",
    "    ds = tf.data.Dataset.from_tensor_slices(series)\n",
    "    ds = ds.window(window_size + 1, shift=1, drop_remainder=True)\n",
    "    ds = ds.flat_map(lambda w: w.batch(window_size + 1))\n",
    "    ds = ds.shuffle(shuffle_buffer)\n",
    "    ds = ds.map(lambda w: (w[:-1], w[1:]))\n",
    "\n",
    "    return ds.batch(batch_size).prefetch(1)\n"
   ],
   "metadata": {
    "collapsed": false,
    "pycharm": {
     "name": "#%%\n"
    }
   },
   "execution_count": null,
   "outputs": []
  },
  {
   "cell_type": "markdown",
   "source": [
    "After training we get a huge improvement over earlier results. The peak has lost its plato, but still is not quite right: it is not getting high enough relative to the data.\n",
    "One solution might be to train a little bit longer as MAE and Loss are slowly decreasing.\n",
    "We can also utilize LSTM layers:"
   ],
   "metadata": {
    "collapsed": false,
    "pycharm": {
     "name": "#%% md\n"
    }
   }
  },
  {
   "cell_type": "code",
   "execution_count": null,
   "outputs": [],
   "source": [
    "model = tf.keras.models.Sequential([\n",
    "    tf.keras.layers.Conv1D(filters=32, kernel_size=5, strides=1, padding=\"casual\", activation=\"relu\", input_shape=[None,1]),\n",
    "    tf.keras.layers.Bidirectional(tf.keras.layers.LSTM(32, return_sequences=True)),\n",
    "    tf.keras.layers.Bidirectional(tf.keras.layers.LSTM(32, return_sequences=True)),\n",
    "    tf.keras.layers.Dense(1),\n",
    "    tf.keras.layers.Lambda(lambda x: x * 200)\n",
    "])"
   ],
   "metadata": {
    "collapsed": false,
    "pycharm": {
     "name": "#%%\n"
    }
   }
  },
  {
   "cell_type": "markdown",
   "source": [
    "Unfortunately it is overfitting and MAE goes down.\n",
    "There is a lot of noise and instability. The one common cause of spikes is a [small batch size](https://www.youtube.com/watch?v=4qJaSmvhxi8) introducing more random noise. So it is worth experimenting with different batch_sizes.\n"
   ],
   "metadata": {
    "collapsed": false
   }
  },
  {
   "cell_type": "markdown",
   "source": [
    "## Real data: sunspots\n",
    "We are using a [Kaggle Sunspot dataset](https://www.kaggle.com/robervalt/sunspots)\n"
   ],
   "metadata": {
    "collapsed": false
   }
  },
  {
   "cell_type": "code",
   "execution_count": null,
   "outputs": [],
   "source": [
    "# read csv file and import its data into a list of sunspots and timesteps:\n",
    "import csv\n",
    "import numpy as np\n",
    "time_step = []\n",
    "sunspots = []\n",
    "\n",
    "with open('/tmp/sunspot.csv') as csvfile:\n",
    "    reader = csv.reader(csvfile, delimeter=',')\n",
    "    next(reader) # simply ignore first row with column titles\n",
    "    for row in reader:\n",
    "        # every item is read as a string, so we have to convert them to the types we need\n",
    "        time_step.append(int(row[0]))\n",
    "        sunspots.append(float(row[2]))\n",
    "\n",
    "# It is more efficient to convert arrays into numpy arrays:\n",
    "time = np.array(time_step)\n",
    "series = np.array(sunspots)\n",
    "# Note: appending data to numpy array is not efficient because of lots of memory management\n",
    "\n",
    "# Split data into a training and validation datasets:\n",
    "split_time = 3000\n",
    "time_train = time[:split_time]\n",
    "x_train = series[:split_time]\n",
    "time_valid = time[split_time:]\n",
    "x_valid = series[split_time:]\n",
    "\n",
    "window_size = 20\n",
    "batch_size = 32\n",
    "shuffle_buffer_size = 1000\n",
    "\n",
    "# then, we use the same `windowed_dataset` function from the last week to turn a series into a dataset that we can train on"
   ],
   "metadata": {
    "collapsed": false,
    "pycharm": {
     "name": "#%%\n"
    }
   }
  },
  {
   "cell_type": "markdown",
   "source": [
    "## Prediction\n",
    "To predict the next value after the end of our dataset, we use this code:"
   ],
   "metadata": {
    "collapsed": false
   }
  },
  {
   "cell_type": "code",
   "execution_count": null,
   "outputs": [],
   "source": [
    "model.predict(series[3205:3235][np.newaxis])\n"
   ],
   "metadata": {
    "collapsed": false,
    "pycharm": {
     "name": "#%%\n"
    }
   }
  }
 ],
 "metadata": {
  "kernelspec": {
   "display_name": "Python 3",
   "language": "python",
   "name": "python3"
  },
  "language_info": {
   "codemirror_mode": {
    "name": "ipython",
    "version": 2
   },
   "file_extension": ".py",
   "mimetype": "text/x-python",
   "name": "python",
   "nbconvert_exporter": "python",
   "pygments_lexer": "ipython2",
   "version": "2.7.6"
  }
 },
 "nbformat": 4,
 "nbformat_minor": 0
}