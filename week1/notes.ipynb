{
 "cells": [
  {
   "cell_type": "markdown",
   "metadata": {
    "collapsed": true,
    "pycharm": {
     "name": "#%% md\n"
    }
   },
   "source": [
    "# Course Outline\n",
    "Week 1 - focus onm time series types and basic forecasting on them. Start preparing timeseries for running ML algorithms on them (e.g. splitting into a training, validation and training sets)\n",
    "Week 2 - forecasting using Dense model vs. Naive prediction\n",
    "Week 3 - Using RNNs to forecast time series, stateful vs. stateless approaches, training on windows on data\n",
    "Week 4 - Forecasting real-world data using CNN\n",
    "\n",
    "## Time series examples\n",
    "TS are  everywhere: stock prices, weather forecasts, historical trends (e.g. Moore's Law)\n",
    "TS is an ordered sequence of values that are usually equally spaced over time.\n",
    "\n",
    "Univariate TS - has a single value at each timestamp; Multivariate TS - has multiple values at each timestamp (e.g. Birth and Death rate or Global Temperature vs. CO2 concentration)\n"
   ]
  },
  {
   "cell_type": "code",
   "source": [
    "\n"
   ],
   "metadata": {
    "collapsed": false,
    "pycharm": {
     "name": "#%%\n"
    }
   },
   "execution_count": null,
   "outputs": []
  }
 ],
 "metadata": {
  "kernelspec": {
   "display_name": "Python 3",
   "language": "python",
   "name": "python3"
  },
  "language_info": {
   "codemirror_mode": {
    "name": "ipython",
    "version": 2
   },
   "file_extension": ".py",
   "mimetype": "text/x-python",
   "name": "python",
   "nbconvert_exporter": "python",
   "pygments_lexer": "ipython2",
   "version": "2.7.6"
  }
 },
 "nbformat": 4,
 "nbformat_minor": 0
}